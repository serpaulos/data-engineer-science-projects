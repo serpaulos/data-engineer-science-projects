{
 "cells": [
  {
   "cell_type": "code",
   "execution_count": null,
   "source": [
    "import mysql.connector as msql\n",
    "from mysql.connector import Error\n",
    "import pandas as pd\n",
    "import time"
   ],
   "outputs": [],
   "metadata": {}
  },
  {
   "cell_type": "code",
   "execution_count": null,
   "source": [
    "try:\n",
    "    actualdate = time.strftime(\"%d-%m-%Y\")\n",
    "    book_data = pd.read_csv('./data/books/' + actualdate + '-books.csv', encoding = 'utf8', header = None)\n",
    "except:\n",
    "    print(\"No file inside the folder... Run webscraper.ipynb in order to create the file\")"
   ],
   "outputs": [],
   "metadata": {}
  },
  {
   "cell_type": "code",
   "execution_count": null,
   "source": [
    "book_data.head(10)"
   ],
   "outputs": [],
   "metadata": {}
  },
  {
   "cell_type": "code",
   "execution_count": null,
   "source": [
    "try:\n",
    "    conn = msql.connect(host='localhost', user='root', password='cast8570', database='scrapbookdb', )\n",
    "    if conn.is_connected():\n",
    "        cursor = conn.cursor()\n",
    "        cursor.execute(\"select database();\")\n",
    "        record = cursor.fetchone()\n",
    "        print(\"You're connected to database: \", record)\n",
    "        for i, row in book_data.iterrows():\n",
    "            sql = \"INSERT INTO scrapbooks.scrapbookstb (category, title, price, rating, stock) VALUES (%s,%s,%s,%s,%s)\"\n",
    "            cursor.execute(sql, tuple(row))\n",
    "            #print(\"Record inserted\")\n",
    "            # the connection is not autocommitted by default, so we must commit to save our changes\n",
    "            conn.commit()\n",
    "except Error as e:\n",
    "    print(\"Error while connecting to MySQL\", e)"
   ],
   "outputs": [],
   "metadata": {}
  },
  {
   "cell_type": "code",
   "execution_count": null,
   "source": [
    "# Execute query\n",
    "sql = \"SELECT * FROM scrappedbooks\"\n",
    "cursor.execute(sql)\n",
    "\n",
    "# Fetch all the records\n",
    "result = cursor.fetchall()\n",
    "for i in result:\n",
    "    print(i)"
   ],
   "outputs": [],
   "metadata": {}
  }
 ],
 "metadata": {
  "orig_nbformat": 4,
  "language_info": {
   "name": "python",
   "version": "3.9.6",
   "mimetype": "text/x-python",
   "codemirror_mode": {
    "name": "ipython",
    "version": 3
   },
   "pygments_lexer": "ipython3",
   "nbconvert_exporter": "python",
   "file_extension": ".py"
  },
  "kernelspec": {
   "name": "python3",
   "display_name": "Python 3.9.6 64-bit ('dataeng': conda)"
  },
  "interpreter": {
   "hash": "b834472b2ac5ca014444c52ffd75123a18e85fda1e5350364c8bc63aedcb65cf"
  }
 },
 "nbformat": 4,
 "nbformat_minor": 2
}