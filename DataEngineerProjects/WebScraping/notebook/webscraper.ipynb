{
 "cells": [
  {
   "cell_type": "code",
   "execution_count": null,
   "source": [
    "from selenium import webdriver\r\n",
    "from selenium.webdriver.chrome.options import Options\r\n",
    "import requests\r\n",
    "import pandas as pd\r\n",
    "from bs4 import BeautifulSoup as bs\r\n",
    "import time"
   ],
   "outputs": [],
   "metadata": {}
  },
  {
   "cell_type": "code",
   "execution_count": null,
   "source": [
    "options = Options()\r\n",
    "options.add_argument(\"start-maximized\")\r\n",
    "options.add_argument('--ignore-certificate-errors')\r\n",
    "options.add_argument('--incognito')\r\n",
    "options.add_argument('--headless')\r\n",
    "\r\n",
    "driver = webdriver.Chrome('./chromedriver', options=options)"
   ],
   "outputs": [],
   "metadata": {}
  },
  {
   "cell_type": "code",
   "execution_count": null,
   "source": [
    "actualdate = time.strftime(\"%d-%m-%Y\")\r\n",
    "\r\n",
    "categories = [\r\n",
    "'travel', 'mystery', 'historical-fiction', 'sequential-art', 'classics', 'philosophy', 'romance', 'womens-fiction',\r\n",
    "'fiction', 'childrens', 'religion', 'nonfiction', 'music', 'default', 'science-fiction', 'sports-and-games', \r\n",
    "'add-a-comment', 'fantasy', 'new-adult', 'young-adult', 'science', 'poetry', 'paranormal', 'art', 'psychology',\r\n",
    "'autobiography', 'parenting', 'adult-fiction', 'humor', 'horror', 'history', 'food-and-drink', 'christian-fiction',\r\n",
    "'business', 'biography', 'thriller', 'contemporary', 'spirituality', 'academic', 'self-help', 'historical',\r\n",
    "'christian', 'suspense', 'short-stories', 'novels', 'health', 'politics', 'cultural', 'erotica', 'crime'\r\n",
    "]"
   ],
   "outputs": [],
   "metadata": {}
  },
  {
   "cell_type": "code",
   "execution_count": null,
   "source": [
    "#Defining columns to be loaded latter\r\n",
    "df = pd.DataFrame(columns=[\"Category\", \"Title\", \"Price\",\"Rating\", \"In stock\"])\r\n",
    "books = []"
   ],
   "outputs": [],
   "metadata": {}
  },
  {
   "cell_type": "code",
   "execution_count": null,
   "source": [
    "for (i, item) in enumerate(categories,2):\r\n",
    "    driver.get(f\"https://books.toscrape.com/catalogue/category/books/{item}_{i}/\")\r\n",
    "    webaddr = driver.current_url\r\n",
    "\r\n",
    "    response = requests.get(webaddr)\r\n",
    "    data = response.text\r\n",
    "    soup = bs(data, \"html.parser\")\r\n",
    "    contents = soup.select('ol li')\r\n",
    "\r\n",
    "    for item in contents:\r\n",
    "        category = driver.find_element_by_xpath('//div[@class=\"page-header action\"]/h1').text\r\n",
    "        title = item.find('h3').text\r\n",
    "        price = item.find('p', class_='price_color').text\r\n",
    "        price = price.replace('Â£', '')\r\n",
    "        rating_class = item.find('p').attrs\r\n",
    "        rating = rating_class['class'][1]\r\n",
    "        stock = item.find('p', class_='instock availability').text.strip()\r\n",
    "\r\n",
    "        books_info = {\r\n",
    "            'Category': category,\r\n",
    "            'Title': title,\r\n",
    "            'Price': price,\r\n",
    "            'Rating': rating,\r\n",
    "            'Stock': stock\r\n",
    "        }\r\n",
    "\r\n",
    "        books.append(books_info)\r\n",
    "\r\n",
    "time.sleep(2)\r\n",
    "# Clean up (close browser once completed task).\r\n",
    "driver.close()"
   ],
   "outputs": [],
   "metadata": {}
  },
  {
   "cell_type": "code",
   "execution_count": null,
   "source": [
    "df = pd.DataFrame(books)\r\n",
    "df.to_csv('./data/books/'+actualdate+'-books.csv',header=False, index=False, encoding='utf-8')"
   ],
   "outputs": [],
   "metadata": {}
  }
 ],
 "metadata": {
  "interpreter": {
   "hash": "97ae724bfa85b9b34df7982b8bb8c7216f435b92902d749e4263f71162bea840"
  },
  "kernelspec": {
   "name": "python3",
   "display_name": "Python 3.8.10 64-bit ('base': conda)"
  },
  "language_info": {
   "codemirror_mode": {
    "name": "ipython",
    "version": 3
   },
   "file_extension": ".py",
   "mimetype": "text/x-python",
   "name": "python",
   "nbconvert_exporter": "python",
   "pygments_lexer": "ipython3",
   "version": "3.8.10"
  }
 },
 "nbformat": 4,
 "nbformat_minor": 5
}