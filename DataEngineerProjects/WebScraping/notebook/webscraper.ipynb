{
 "cells": [
  {
   "cell_type": "code",
   "execution_count": null,
   "source": [
    "from selenium import webdriver\n",
    "from selenium.webdriver.chrome.options import Options\n",
    "import requests\n",
    "import pandas as pd\n",
    "from bs4 import BeautifulSoup as bs\n",
    "import time"
   ],
   "outputs": [],
   "metadata": {}
  },
  {
   "cell_type": "code",
   "execution_count": null,
   "source": [
    "options = Options()\n",
    "options.add_argument(\"start-maximized\")\n",
    "options.add_argument('--ignore-certificate-errors')\n",
    "options.add_argument('--incognito')\n",
    "options.add_argument('--headless')\n",
    "\n",
    "driver = webdriver.Chrome('./chromedriver', options=options)"
   ],
   "outputs": [],
   "metadata": {}
  },
  {
   "cell_type": "code",
   "execution_count": null,
   "source": [
    "actualdate = time.strftime(\"%d-%m-%Y\")\n",
    "\n",
    "categories = [\n",
    "'travel', 'mystery', 'historical-fiction', 'sequential-art', 'classics', 'philosophy', 'romance', 'womens-fiction',\n",
    "'fiction', 'childrens', 'religion', 'nonfiction', 'music', 'default', 'science-fiction', 'sports-and-games', \n",
    "'add-a-comment', 'fantasy', 'new-adult', 'young-adult', 'science', 'poetry', 'paranormal', 'art', 'psychology',\n",
    "'autobiography', 'parenting', 'adult-fiction', 'humor', 'horror', 'history', 'food-and-drink', 'christian-fiction',\n",
    "'business', 'biography', 'thriller', 'contemporary', 'spirituality', 'academic', 'self-help', 'historical',\n",
    "'christian', 'suspense', 'short-stories', 'novels', 'health', 'politics', 'cultural', 'erotica', 'crime'\n",
    "]"
   ],
   "outputs": [],
   "metadata": {}
  },
  {
   "cell_type": "code",
   "execution_count": null,
   "source": [
    "#Defining columns to be loaded latter\n",
    "df = pd.DataFrame(columns=[\"Category\", \"Title\", \"Price\",\"Rating\", \"In stock\"])\n",
    "books = []"
   ],
   "outputs": [],
   "metadata": {}
  },
  {
   "cell_type": "code",
   "execution_count": null,
   "source": [
    "for (i, item) in enumerate(categories,2):\n",
    "    driver.get(f\"https://books.toscrape.com/catalogue/category/books/{item}_{i}/\")\n",
    "    webaddr = driver.current_url\n",
    "\n",
    "    response = requests.get(webaddr)\n",
    "    data = response.text\n",
    "    soup = bs(data, \"html.parser\")\n",
    "    contents = soup.select('ol li')\n",
    "\n",
    "    for item in contents:\n",
    "        category = driver.find_element_by_xpath('//div[@class=\"page-header action\"]/h1').text\n",
    "        title = item.find('h3').text\n",
    "        price = item.find('p', class_='price_color').text\n",
    "        price = price.replace('Â£', '')\n",
    "        rating_class = item.find('p').attrs\n",
    "        rating = rating_class['class'][1]\n",
    "        stock = item.find('p', class_='instock availability').text.strip()\n",
    "\n",
    "        books_info = {\n",
    "            'Category': category,\n",
    "            'Title': title,\n",
    "            'Price': price,\n",
    "            'Rating': rating,\n",
    "            'Stock': stock\n",
    "        }\n",
    "\n",
    "        books.append(books_info)\n",
    "\n",
    "time.sleep(2)\n",
    "# Clean up (close browser once completed task).\n",
    "driver.close()"
   ],
   "outputs": [],
   "metadata": {}
  },
  {
   "cell_type": "code",
   "execution_count": null,
   "source": [
    "df = pd.DataFrame(books)\n",
    "df.to_csv('./data/books/'+actualdate+'-books.csv',header=False, index=False, encoding='utf-8')"
   ],
   "outputs": [],
   "metadata": {}
  }
 ],
 "metadata": {
  "interpreter": {
   "hash": "b834472b2ac5ca014444c52ffd75123a18e85fda1e5350364c8bc63aedcb65cf"
  },
  "kernelspec": {
   "name": "python3",
   "display_name": "Python 3.9.6 64-bit ('dataeng': conda)"
  },
  "language_info": {
   "codemirror_mode": {
    "name": "ipython",
    "version": 3
   },
   "file_extension": ".py",
   "mimetype": "text/x-python",
   "name": "python",
   "nbconvert_exporter": "python",
   "pygments_lexer": "ipython3",
   "version": "3.9.6"
  }
 },
 "nbformat": 4,
 "nbformat_minor": 5
}