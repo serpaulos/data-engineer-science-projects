{
 "cells": [
  {
   "cell_type": "code",
   "execution_count": 2,
   "source": [
    "import mysql.connector as msql\r\n",
    "from mysql.connector import Error\r\n",
    "import pandas as pd\r\n",
    "import time\r\n",
    "import getpass"
   ],
   "outputs": [],
   "metadata": {}
  },
  {
   "cell_type": "code",
   "execution_count": null,
   "source": [
    "try:\r\n",
    "    actualdate = time.strftime(\"%d-%m-%Y\")\r\n",
    "    book_data = pd.read_csv('./data/books/' + actualdate + '-books.csv', encoding = 'utf8', header = None)\r\n",
    "except:\r\n",
    "    print(\"No file inside the folder... Run webscraper.ipynb in order to create the file\")"
   ],
   "outputs": [],
   "metadata": {}
  },
  {
   "cell_type": "code",
   "execution_count": 3,
   "source": [
    "password = getpass.getpass('Enter your password')"
   ],
   "outputs": [],
   "metadata": {}
  },
  {
   "cell_type": "code",
   "execution_count": 4,
   "source": [
    "try:\r\n",
    "    conn = msql.connect(host='localhost', user='root', password=password, database='scrapbookdb', )\r\n",
    "    if conn.is_connected():\r\n",
    "        cursor = conn.cursor()\r\n",
    "        cursor.execute(\"select database();\")\r\n",
    "        record = cursor.fetchone()\r\n",
    "        print(\"You're connected to database: \", record)\r\n",
    "        for i, row in book_data.iterrows():\r\n",
    "            sql = \"INSERT INTO scrapbooks.scrapbookstb (category, title, price, rating, stock) VALUES (%s,%s,%s,%s,%s)\"\r\n",
    "            cursor.execute(sql, tuple(row))\r\n",
    "            #print(\"Record inserted\")\r\n",
    "            # the connection is not autocommitted by default, so we must commit to save our changes\r\n",
    "            conn.commit()\r\n",
    "except Error as e:\r\n",
    "    print(\"Error while connecting to MySQL\", e)"
   ],
   "outputs": [
    {
     "output_type": "error",
     "ename": "SyntaxError",
     "evalue": "invalid syntax (Temp/ipykernel_26448/1377712799.py, line 2)",
     "traceback": [
      "\u001b[1;36m  File \u001b[1;32m\"C:\\Users\\psergios\\AppData\\Local\\Temp/ipykernel_26448/1377712799.py\"\u001b[1;36m, line \u001b[1;32m2\u001b[0m\n\u001b[1;33m    conn = msql.connect(host='localhost', user='root', password=$password, database='scrapbookdb', )\u001b[0m\n\u001b[1;37m                                                                ^\u001b[0m\n\u001b[1;31mSyntaxError\u001b[0m\u001b[1;31m:\u001b[0m invalid syntax\n"
     ]
    }
   ],
   "metadata": {}
  },
  {
   "cell_type": "code",
   "execution_count": null,
   "source": [
    "# Execute query\r\n",
    "sql = \"SELECT * FROM scrapbookstb\"\r\n",
    "cursor.execute(sql)\r\n",
    "\r\n",
    "# Fetch all the records\r\n",
    "result = cursor.fetchall()\r\n",
    "for i in result:\r\n",
    "    print(i)"
   ],
   "outputs": [],
   "metadata": {}
  }
 ],
 "metadata": {
  "orig_nbformat": 4,
  "language_info": {
   "name": "python",
   "version": "3.8.10",
   "mimetype": "text/x-python",
   "codemirror_mode": {
    "name": "ipython",
    "version": 3
   },
   "pygments_lexer": "ipython3",
   "nbconvert_exporter": "python",
   "file_extension": ".py"
  },
  "kernelspec": {
   "name": "python3",
   "display_name": "Python 3.8.10 64-bit ('webscrapper': conda)"
  },
  "interpreter": {
   "hash": "880ee67a412e88e1471341d1600b7f04f519b8df406dcf54ae621efb158d7dba"
  }
 },
 "nbformat": 4,
 "nbformat_minor": 2
}