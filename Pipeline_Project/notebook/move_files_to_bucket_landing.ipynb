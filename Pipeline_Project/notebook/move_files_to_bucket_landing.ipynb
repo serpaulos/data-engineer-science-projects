{
 "cells": [
  {
   "cell_type": "code",
   "execution_count": null,
   "id": "e7fb3e0f",
   "metadata": {},
   "outputs": [],
   "source": [
    "#pip install minio"
   ]
  },
  {
   "cell_type": "code",
   "execution_count": null,
   "id": "c9c7dd48",
   "metadata": {},
   "outputs": [],
   "source": [
    "import glob\n",
    "import os\n",
    "from minio import Minio"
   ]
  },
  {
   "cell_type": "code",
   "execution_count": null,
   "id": "971be303",
   "metadata": {},
   "outputs": [],
   "source": [
    "ACCESS_KEY='tensorflow'\n",
    "SECRET_KEY='tensorflow'"
   ]
  },
  {
   "cell_type": "code",
   "execution_count": null,
   "id": "8aa27bb9",
   "metadata": {},
   "outputs": [],
   "source": [
    "client = Minio(\n",
    "       '172.25.0.4:9000',\n",
    "        access_key=ACCESS_KEY,\n",
    "        secret_key=SECRET_KEY,\n",
    "        secure=False\n",
    "    )"
   ]
  },
  {
   "cell_type": "code",
   "execution_count": null,
   "id": "e6530835",
   "metadata": {},
   "outputs": [],
   "source": [
    "#quando object_name = None ira usar o mesmo nome do filename\n",
    "def upload_file():\n",
    "    folder_path = 'data'\n",
    "    bucket = 'landing'\n",
    "    \n",
    "    if len(os.listdir('data')) == 0:\n",
    "        return 'pasta vazia'\n",
    "    else:\n",
    "        #extrair e salva em uma lista todo os nomes de arquivos dentro de uma pasta\n",
    "        filename = os.listdir(folder_path)\n",
    "\n",
    "        #faz upload de todos os arquivos de uma pasta para o bucket selecionado\n",
    "        for files in filename:\n",
    "            client.fput_object(bucket, files, folder_path+'/'+files)"
   ]
  },
  {
   "cell_type": "code",
   "execution_count": null,
   "id": "fac565ba",
   "metadata": {},
   "outputs": [],
   "source": [
    "upload_file()"
   ]
  },
  {
   "cell_type": "code",
   "execution_count": null,
   "id": "4cfd8216",
   "metadata": {},
   "outputs": [],
   "source": [
    "if upload_file() == 'pasta vazia':\n",
    "    print('pasta estava vazia')\n",
    "else:\n",
    "    print('nao vazio')    "
   ]
  },
  {
   "cell_type": "code",
   "execution_count": null,
   "id": "232415df",
   "metadata": {},
   "outputs": [],
   "source": [
    "def verifica_pasta():\n",
    "    if len(os.listdir('data')) == 0:\n",
    "        pasta = 'pasta vazia'\n",
    "        return pasta"
   ]
  },
  {
   "cell_type": "code",
   "execution_count": null,
   "id": "013a298b",
   "metadata": {},
   "outputs": [],
   "source": [
    "if verifica_pasta() == 'pasta vazia':\n",
    "    print('pasta estava vazia')\n",
    "else:\n",
    "    print('nao vazio') "
   ]
  },
  {
   "cell_type": "code",
   "execution_count": null,
   "id": "38484ab7",
   "metadata": {},
   "outputs": [],
   "source": []
  }
 ],
 "metadata": {
  "kernelspec": {
   "display_name": "Python 3 (ipykernel)",
   "language": "python",
   "name": "python3"
  },
  "language_info": {
   "codemirror_mode": {
    "name": "ipython",
    "version": 3
   },
   "file_extension": ".py",
   "mimetype": "text/x-python",
   "name": "python",
   "nbconvert_exporter": "python",
   "pygments_lexer": "ipython3",
   "version": "3.9.7"
  }
 },
 "nbformat": 4,
 "nbformat_minor": 5
}
