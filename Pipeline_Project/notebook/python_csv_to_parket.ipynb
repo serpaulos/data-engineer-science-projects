{
 "cells": [
  {
   "cell_type": "code",
   "execution_count": null,
   "id": "59d3b47b",
   "metadata": {},
   "outputs": [],
   "source": [
    "#pip install minio"
   ]
  },
  {
   "cell_type": "code",
   "execution_count": 1,
   "id": "c331f7b6",
   "metadata": {},
   "outputs": [],
   "source": [
    "import pandas as pd\n",
    "import pyspark as ps\n",
    "import glob\n",
    "import os\n",
    "import io\n",
    "import pathlib\n",
    "from minio import Minio"
   ]
  },
  {
   "cell_type": "code",
   "execution_count": null,
   "id": "f63ba47d",
   "metadata": {},
   "outputs": [],
   "source": [
    "from pyspark.sql import SparkSession\n",
    "from pyspark.sql import functions as F\n",
    "from pyspark import SparkContext, SparkConf"
   ]
  },
  {
   "cell_type": "code",
   "execution_count": null,
   "id": "6c1f68aa",
   "metadata": {},
   "outputs": [],
   "source": [
    "spark = SparkSession.builder \\\n",
    "  .master(\"local\") \\\n",
    "  .appName(\"parquet_example\") \\\n",
    "  .getOrCreate()"
   ]
  },
  {
   "cell_type": "code",
   "execution_count": 2,
   "id": "fd2cd87d",
   "metadata": {},
   "outputs": [],
   "source": [
    "ACCESS_KEY='tensorflow'\n",
    "SECRET_KEY='tensorflow'"
   ]
  },
  {
   "cell_type": "code",
   "execution_count": 3,
   "id": "29206c2d",
   "metadata": {},
   "outputs": [],
   "source": [
    "client = Minio(\n",
    "       '172.25.0.4:9000',\n",
    "        access_key=ACCESS_KEY,\n",
    "        secret_key=SECRET_KEY,\n",
    "        secure=False\n",
    "    )"
   ]
  },
  {
   "cell_type": "code",
   "execution_count": 4,
   "id": "8f1ad7a8",
   "metadata": {},
   "outputs": [],
   "source": [
    "bucket_name = 'landing'\n",
    "bucket_destination = 'temp'\n",
    "parque_folder_path = 'parquet_saved'"
   ]
  },
  {
   "cell_type": "code",
   "execution_count": 5,
   "id": "e3fc071c",
   "metadata": {},
   "outputs": [],
   "source": [
    "def extract():  \n",
    "    #busca a lista de objetos no data lake.\n",
    "    objects = client.list_objects('landing', recursive=True)\n",
    "    \n",
    "    #faz o download de cada arquivo e concatena com o dataframe vazio.\n",
    "    for obj in objects:\n",
    "        print(\"Downloading file...\")\n",
    "        print(obj.bucket_name, obj.object_name)\n",
    "\n",
    "        client.fget_object(\n",
    "                    obj.bucket_name,\n",
    "                    obj.object_name,\n",
    "                    'temp/'+obj.object_name,\n",
    "        )"
   ]
  },
  {
   "cell_type": "code",
   "execution_count": 6,
   "id": "309edc38",
   "metadata": {},
   "outputs": [
    {
     "name": "stdout",
     "output_type": "stream",
     "text": [
      "Downloading file...\n",
      "landing olist_customers_dataset.csv\n",
      "Downloading file...\n",
      "landing olist_geolocation_dataset.csv\n",
      "Downloading file...\n",
      "landing olist_order_items_dataset.csv\n",
      "Downloading file...\n",
      "landing olist_order_payments_dataset.csv\n",
      "Downloading file...\n",
      "landing olist_order_reviews_dataset.csv\n",
      "Downloading file...\n",
      "landing olist_orders_dataset.csv\n",
      "Downloading file...\n",
      "landing olist_products_dataset.csv\n",
      "Downloading file...\n",
      "landing olist_sellers_dataset.csv\n",
      "Downloading file...\n",
      "landing product_category_name_translation.csv\n"
     ]
    }
   ],
   "source": [
    "#executa a funcao para fazer o download dos arquivos\n",
    "extract()"
   ]
  },
  {
   "cell_type": "code",
   "execution_count": 7,
   "id": "91814b38",
   "metadata": {},
   "outputs": [],
   "source": [
    "def load():\n",
    "    #carrega os nomes de arquivos a partir de uma pasta.\n",
    "    filename = os.listdir('temp')\n",
    "    \n",
    "    \n",
    "    for obj in filename:\n",
    "        #gera os datasets\n",
    "        df = pd.read_csv(\"temp/\"+obj, sep=',', header=0)\n",
    "        #tira a extensao do nome do arquivo\n",
    "        filenamemod = pathlib.Path(obj).stem\n",
    "        #converte o dataset em parquet\n",
    "        df.to_parquet(\"parquet_saved/{}.parquet\".format(filenamemod),index=False)\n",
    "\n",
    "        #carrega os dados para o Data Lake.\n",
    "        client.fput_object(\"processing\",filenamemod+\".parquet\",\"parquet_saved/{}.parquet\".format(filenamemod))"
   ]
  },
  {
   "cell_type": "code",
   "execution_count": 8,
   "id": "e7616dfe",
   "metadata": {},
   "outputs": [],
   "source": [
    "load()"
   ]
  },
  {
   "cell_type": "code",
   "execution_count": null,
   "id": "851ab9b4",
   "metadata": {},
   "outputs": [],
   "source": []
  }
 ],
 "metadata": {
  "kernelspec": {
   "display_name": "Python 3 (ipykernel)",
   "language": "python",
   "name": "python3"
  },
  "language_info": {
   "codemirror_mode": {
    "name": "ipython",
    "version": 3
   },
   "file_extension": ".py",
   "mimetype": "text/x-python",
   "name": "python",
   "nbconvert_exporter": "python",
   "pygments_lexer": "ipython3",
   "version": "3.9.7"
  }
 },
 "nbformat": 4,
 "nbformat_minor": 5
}
